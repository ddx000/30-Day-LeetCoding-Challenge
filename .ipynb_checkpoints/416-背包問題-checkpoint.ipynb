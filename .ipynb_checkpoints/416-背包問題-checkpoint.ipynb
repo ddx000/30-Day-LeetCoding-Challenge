{
 "cells": [
  {
   "cell_type": "markdown",
   "metadata": {},
   "source": [
    "# 416 給定一數組，看是否能對切\n",
    "\n",
    "- 動態規劃就是記憶化遞歸\n",
    "- 找出狀態轉移方程\n",
    "1. 定義狀態:\n",
    "        dp[n] = 是否能使用數字湊出來n\n",
    "2. 轉移方程:\n",
    "        dp[n] = dp[n-num] or dp[n]\n",
    "        再補用一個數字num就可以湊齊\n",
    "3. 開始執行迴圈，每次從數組裡挑一個數字出來，使用轉移方程看看有沒有新的可以湊成功的\n",
    "4. 特別注意，第二層迴圈必須倒序，否則若num=1 dp[1] = dp[1-1], dp[2] = dp[2-1]這樣子全部都會是True"
   ]
  },
  {
   "cell_type": "code",
   "execution_count": 2,
   "metadata": {},
   "outputs": [
    {
     "name": "stdout",
     "output_type": "stream",
     "text": [
      "[1, 0, 1, 0, 0, 0, 0, 0, 0, 0, 0]\n",
      "[1, 0, 1, 0, 0, 1, 0, 0, 0, 0, 0]\n",
      "[1, 0, 1, 1, 0, 1, 0, 0, 0, 0, 0]\n"
     ]
    },
    {
     "data": {
      "text/plain": [
       "True"
      ]
     },
     "execution_count": 2,
     "metadata": {},
     "output_type": "execute_result"
    }
   ],
   "source": [
    "def canPartition(nums):\n",
    "    Sum = sum(nums)\n",
    "    if Sum%2!=0:\n",
    "        return False\n",
    "    target = Sum//2\n",
    "    dp = [0]*(target+1)\n",
    "    dp[0] = 1\n",
    "    for num in nums:\n",
    "        for j in range(target, num-1, -1):\n",
    "            if dp[j] or dp[j-num]:\n",
    "                if j == target:\n",
    "                    return True\n",
    "                dp[j] = 1\n",
    "                print(dp)\n",
    "    return False\n",
    "    \n",
    "canPartition([2,3,5,2,3,5])     "
   ]
  },
  {
   "cell_type": "markdown",
   "metadata": {},
   "source": [
    "# 316 Coin Change\n",
    "- Input: coins = [1, 2, 5], amount = 11\n",
    "- Output: 3 \n",
    "- 使用最少數字湊出來\n",
    "- 定義狀態:\n",
    "      dp[n] = amount = N 最少用多少硬幣湊出來\n",
    "- 定義轉移方程:\n",
    "      dp[n] = dp[n-coin] + 1\n",
    "- 定義起始:\n",
    "      dp[0] = 0      "
   ]
  },
  {
   "cell_type": "code",
   "execution_count": 27,
   "metadata": {},
   "outputs": [],
   "source": [
    "def coinChange(coins,amount):\n",
    "    dp = [float('inf')]*(amount+1)\n",
    "    dp[0] = 0\n",
    "    for coin in coins:\n",
    "        for i in range(coin , amount+1):\n",
    "            if dp[i-coin] != float('inf'):\n",
    "                dp[i] = min(dp[i],dp[i-coin] + 1)\n",
    "            #print(dp)\n",
    "    return -1 if dp[-1] ==float('inf') else dp[-1]"
   ]
  },
  {
   "cell_type": "code",
   "execution_count": 31,
   "metadata": {},
   "outputs": [
    {
     "data": {
      "text/plain": [
       "-1"
      ]
     },
     "execution_count": 31,
     "metadata": {},
     "output_type": "execute_result"
    }
   ],
   "source": [
    "coinChange(coins = [5,9], amount = 7)"
   ]
  },
  {
   "cell_type": "code",
   "execution_count": null,
   "metadata": {},
   "outputs": [],
   "source": []
  }
 ],
 "metadata": {
  "kernelspec": {
   "display_name": "Python 3",
   "language": "python",
   "name": "python3"
  },
  "language_info": {
   "codemirror_mode": {
    "name": "ipython",
    "version": 3
   },
   "file_extension": ".py",
   "mimetype": "text/x-python",
   "name": "python",
   "nbconvert_exporter": "python",
   "pygments_lexer": "ipython3",
   "version": "3.7.3"
  }
 },
 "nbformat": 4,
 "nbformat_minor": 4
}

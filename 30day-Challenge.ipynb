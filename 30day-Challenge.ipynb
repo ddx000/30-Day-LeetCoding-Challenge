{
 "cells": [
  {
   "cell_type": "markdown",
   "metadata": {},
   "source": [
    "# Day 1 single Number\n",
    "- 從[1,1,2,2,4,5,5]中找出唯一的那個\n",
    "- 解法1: 用dic存看過的 再看過一次就刪除 最後就會只剩一個\n",
    "- 解法2: Bit Operation XOR:\n",
    "    - a^a = 0\n",
    "    - a^0 = a"
   ]
  },
  {
   "cell_type": "code",
   "execution_count": 1,
   "metadata": {},
   "outputs": [],
   "source": [
    "def singleNumber(nums):\n",
    "    #hashtable\n",
    "    dic = {}\n",
    "    for i in nums:\n",
    "        if dic.get(i): #get不到會返回default None\n",
    "            del dic[i] #刪去比pop快一些\n",
    "        else:\n",
    "            dic[i] = 1\n",
    "    return dic.popitem()[0]\n",
    "    #Time:O(n), Space:O(n)\n",
    "    \n",
    "    \n",
    "    #Bit Operation , XOR\n",
    "    res = 0\n",
    "    for i in nums:\n",
    "        res^=i\n",
    "    return (res)\n",
    "    #Time:O(n), Space:O(1)"
   ]
  },
  {
   "cell_type": "markdown",
   "metadata": {},
   "source": [
    "# Day 2 Happy Number\n",
    "- 運用dic存看過的去解 有無限loop return false"
   ]
  },
  {
   "cell_type": "code",
   "execution_count": 44,
   "metadata": {},
   "outputs": [],
   "source": [
    "class Solution:\n",
    "    def isHappy(self, n: int) -> bool:\n",
    "        self.repeat = {}\n",
    "        return self.helper(n)\n",
    "             \n",
    "    def helper(self,num):\n",
    "        if num in self.repeat:\n",
    "            return False\n",
    "        if num ==1:\n",
    "            return True\n",
    "        \n",
    "        self.repeat[num] = True\n",
    "        res = 0\n",
    "        while num:\n",
    "            res += (num%10)**2\n",
    "            num = num//10\n",
    "        #print(res)\n",
    "\n",
    "        return self.helper(res)\n",
    "    \n",
    "#Time:O(n), Space:O(n)"
   ]
  },
  {
   "cell_type": "markdown",
   "metadata": {},
   "source": [
    "# Day3 Maximum Subarray\n",
    "Input: [-2,1,-3,4,-1,2,1,-5,4],  \n",
    "Output: 6  \n",
    "Explanation: [4,-1,2,1] has the largest sum = 6.  \n",
    "\n",
    "\n",
    "思路: 可以用暴力解 但是太久 可以用DP 紀錄之前爬過的Array "
   ]
  },
  {
   "cell_type": "code",
   "execution_count": 53,
   "metadata": {},
   "outputs": [],
   "source": [
    "class Solution:\n",
    "    def maxSubArray(self, nums):\n",
    "        dp = [0]* len(nums) #DP定義為到目前為止 最大sum的subarray\n",
    "        dp[0] = nums[0]\n",
    "        for i in range(1,len(nums)):\n",
    "            dp[i] = max(dp[i-1]+nums[i],nums[i])\n",
    "            # 選擇繼承前面的 或者完全放棄\n",
    "        return max(dp)"
   ]
  },
  {
   "cell_type": "markdown",
   "metadata": {},
   "source": [
    "- [-2,1,-3,4,-1,2,1,-5,4]\n",
    "- [-2,0, 0,0, 0,0,0, 0,0]\n",
    "- [-2,1, 0,0, 0,0,0, 0,0] #"
   ]
  },
  {
   "cell_type": "code",
   "execution_count": null,
   "metadata": {},
   "outputs": [],
   "source": []
  }
 ],
 "metadata": {
  "kernelspec": {
   "display_name": "Python 3",
   "language": "python",
   "name": "python3"
  },
  "language_info": {
   "codemirror_mode": {
    "name": "ipython",
    "version": 3
   },
   "file_extension": ".py",
   "mimetype": "text/x-python",
   "name": "python",
   "nbconvert_exporter": "python",
   "pygments_lexer": "ipython3",
   "version": "3.7.3"
  }
 },
 "nbformat": 4,
 "nbformat_minor": 4
}

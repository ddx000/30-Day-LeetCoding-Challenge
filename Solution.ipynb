{
 "cells": [
  {
   "cell_type": "code",
   "execution_count": 1,
   "metadata": {},
   "outputs": [],
   "source": [
    "def singleNumber(nums):\n",
    "    #hashtable\n",
    "    dic = {}\n",
    "    for i in nums:\n",
    "        if dic.get(i): #get不到會返回default None\n",
    "            del dic[i] #刪去比pop快一些\n",
    "        else:\n",
    "            dic[i] = 1\n",
    "    return dic.popitem()[0]\n",
    "    #Time:O(n), Space:O(n)\n",
    "    \n",
    "    \n",
    "    #Bit Operation , XOR\n",
    "    res = 0\n",
    "    for i in nums:\n",
    "        res^=i\n",
    "    return (res)\n",
    "    #Time:O(n), Space:O(1)"
   ]
  },
  {
   "cell_type": "code",
   "execution_count": null,
   "metadata": {},
   "outputs": [],
   "source": []
  }
 ],
 "metadata": {
  "kernelspec": {
   "display_name": "Python 3",
   "language": "python",
   "name": "python3"
  },
  "language_info": {
   "codemirror_mode": {
    "name": "ipython",
    "version": 3
   },
   "file_extension": ".py",
   "mimetype": "text/x-python",
   "name": "python",
   "nbconvert_exporter": "python",
   "pygments_lexer": "ipython3",
   "version": "3.7.3"
  }
 },
 "nbformat": 4,
 "nbformat_minor": 4
}

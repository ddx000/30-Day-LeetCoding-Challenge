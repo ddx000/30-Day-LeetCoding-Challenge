{
 "cells": [
  {
   "cell_type": "markdown",
   "metadata": {},
   "source": [
    "- 題目要求空間複雜度O(1)\n",
    "- 使用二分法，切每個中點(此二分切法比較容易想的到)\n",
    "- 數字只有1 - n 卻有n+1個數字 數字未排序\n",
    "s = [1,3,2,4,5,5,6]  \n",
    "     ^           ^  \n",
    "     首 = 1 尾 = n-1\n",
    "     先取中點 (1+6)//2 = 3\n",
    "     3之前(包含) = 3個  \n",
    "     3之後 = 4個  (所以重複的數字在[4,5,5,6])\n",
    "     "
   ]
  },
  {
   "cell_type": "code",
   "execution_count": 40,
   "metadata": {},
   "outputs": [],
   "source": [
    "class Solution:\n",
    "    def findDuplicate(self, nums):\n",
    "        begin = 1\n",
    "        end = len(nums)-1\n",
    "        while begin < end:\n",
    "            mid = (begin + end)//2\n",
    "            #print('mid',mid)\n",
    "            before_mid =0\n",
    "            for i in range(len(nums)):\n",
    "                if nums[i]<=mid:\n",
    "                    #print(nums[i],'is')\n",
    "                    before_mid += 1\n",
    "            \n",
    "            #print('beforemid',before_mid)\n",
    "            if before_mid > mid:\n",
    "                begin, end  = 1, mid\n",
    "            else:\n",
    "                begin, end  = mid+1, end\n",
    "            #print(begin,end)\n",
    "        return begin"
   ]
  },
  {
   "cell_type": "code",
   "execution_count": 41,
   "metadata": {},
   "outputs": [
    {
     "data": {
      "text/plain": [
       "9"
      ]
     },
     "execution_count": 41,
     "metadata": {},
     "output_type": "execute_result"
    }
   ],
   "source": [
    "Solution().findDuplicate([9,8,7,4,9,5,6,1,2,3,10])"
   ]
  },
  {
   "cell_type": "markdown",
   "metadata": {},
   "source": [
    "# 待解 - 龜兔賽跑的解法"
   ]
  },
  {
   "cell_type": "code",
   "execution_count": null,
   "metadata": {},
   "outputs": [],
   "source": []
  }
 ],
 "metadata": {
  "kernelspec": {
   "display_name": "Python 3",
   "language": "python",
   "name": "python3"
  },
  "language_info": {
   "codemirror_mode": {
    "name": "ipython",
    "version": 3
   },
   "file_extension": ".py",
   "mimetype": "text/x-python",
   "name": "python",
   "nbconvert_exporter": "python",
   "pygments_lexer": "ipython3",
   "version": "3.7.3"
  }
 },
 "nbformat": 4,
 "nbformat_minor": 4
}
